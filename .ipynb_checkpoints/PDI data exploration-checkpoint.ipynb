{
 "cells": [
  {
   "cell_type": "code",
   "execution_count": 1,
   "metadata": {
    "collapsed": true
   },
   "outputs": [],
   "source": [
    "import numpy as np\n",
    "from datascience import *\n",
    "from ipywidgets import interact, interactive, fixed\n",
    "import ipywidgets as widgets\n",
    "import matplotlib.pyplot as plt\n",
    "import matplotlib.lines as lines\n",
    "%matplotlib inline\n",
    "import string\n",
    "import re\n",
    "import math\n"
   ]
  },
  {
   "cell_type": "code",
   "execution_count": 2,
   "metadata": {
    "collapsed": false
   },
   "outputs": [
    {
     "name": "stderr",
     "output_type": "stream",
     "text": [
      "C:\\Users\\TheGFM\\Anaconda3\\lib\\site-packages\\IPython\\core\\interactiveshell.py:2825: DtypeWarning: Columns (2,8,14,16) have mixed types. Specify dtype option on import or set low_memory=False.\n",
      "  if self.run_code(code, result):\n"
     ]
    },
    {
     "data": {
      "text/html": [
       "<table border=\"1\" class=\"dataframe\">\n",
       "    <thead>\n",
       "        <tr>\n",
       "            <th>COUNTYCODE</th> <th>COUNTYNAME</th> <th>PRECINCTWSUB</th> <th>PRECINCT</th> <th>CD</th> <th>SD</th> <th>AD</th> <th>SUP</th> <th>COUNCIL</th> <th>RA_CITY</th> <th>ODD_EVENCODE</th> <th>FILETITLE</th> <th>HOUSEHOLDAID</th> <th>PDIID</th> <th>PRIMARYID</th> <th>RA_ZIP</th> <th>RANGESORT</th> <th>CENSUSBLOCK2010</th> <th>ELECTIONPRECINCT</th> <th>POLLDESCRIPTION1</th> <th>POLLDESCRIPTION2</th> <th>POLLADDRESS1</th> <th>PARTYCODE</th> <th>GENDER</th> <th>REGDATE</th> <th>AGE</th> <th>SUPPORT</th> <th>PERMAV</th> <th>CNTVTS</th> <th>MAILBALLOTPRECINCT</th> <th>COMMENT</th> <th>EXTERNALID</th> <th>LOCALVALUE</th> <th>AGENCYVALUE</th> <th>STATUS</th>\n",
       "        </tr>\n",
       "    </thead>\n",
       "    <tbody>\n",
       "        <tr>\n",
       "            <td>13        </td> <td>Imperial  </td> <td>1312100400  </td> <td>13121004</td> <td>51  </td> <td>40  </td> <td>56  </td> <td>1   </td> <td>nan    </td> <td>Calexico</td> <td>O           </td> <td>:title   </td> <td>130000318   </td> <td>6960501 </td> <td>13114262  </td> <td>92231 </td> <td>791      </td> <td>6.02501e+13    </td> <td>nan             </td> <td>nan             </td> <td>nan             </td> <td>nan         </td> <td>D        </td> <td>F     </td> <td>10/7/1996 </td> <td>60  </td> <td>nan    </td> <td>Y     </td> <td>3     </td> <td>nan               </td> <td>nan    </td> <td>nan       </td> <td>nan       </td> <td>nan        </td> <td>nan   </td>\n",
       "        </tr>\n",
       "    </tbody>\n",
       "        <tr>\n",
       "            <td>13        </td> <td>Imperial  </td> <td>1312100400  </td> <td>13121004</td> <td>51  </td> <td>40  </td> <td>56  </td> <td>1   </td> <td>nan    </td> <td>Calexico</td> <td>O           </td> <td>:title   </td> <td>130000202   </td> <td>17655161</td> <td>13584511  </td> <td>92231 </td> <td>977      </td> <td>6.02501e+13    </td> <td>nan             </td> <td>nan             </td> <td>nan             </td> <td>nan         </td> <td>R        </td> <td>F     </td> <td>8/22/2002 </td> <td>61  </td> <td>nan    </td> <td>Y     </td> <td>5     </td> <td>nan               </td> <td>nan    </td> <td>nan       </td> <td>nan       </td> <td>nan        </td> <td>nan   </td>\n",
       "        </tr>\n",
       "    </tbody>\n",
       "        <tr>\n",
       "            <td>13        </td> <td>Imperial  </td> <td>1312100400  </td> <td>13121004</td> <td>51  </td> <td>40  </td> <td>56  </td> <td>1   </td> <td>nan    </td> <td>Calexico</td> <td>O           </td> <td>:title   </td> <td>130000399   </td> <td>17649849</td> <td>1395158   </td> <td>92231 </td> <td>1049     </td> <td>6.02501e+13    </td> <td>nan             </td> <td>nan             </td> <td>nan             </td> <td>nan         </td> <td>D        </td> <td>M     </td> <td>9/22/1994 </td> <td>59  </td> <td>nan    </td> <td>Y     </td> <td>4     </td> <td>nan               </td> <td>nan    </td> <td>nan       </td> <td>nan       </td> <td>nan        </td> <td>nan   </td>\n",
       "        </tr>\n",
       "    </tbody>\n",
       "        <tr>\n",
       "            <td>13        </td> <td>Imperial  </td> <td>1312100400  </td> <td>13121004</td> <td>51  </td> <td>40  </td> <td>56  </td> <td>1   </td> <td>nan    </td> <td>Calexico</td> <td>E           </td> <td>:title   </td> <td>130000266   </td> <td>17643742</td> <td>1397847462</td> <td>92231 </td> <td>740      </td> <td>6.02501e+13    </td> <td>nan             </td> <td>nan             </td> <td>nan             </td> <td>nan         </td> <td>D        </td> <td>F     </td> <td>10/22/2012</td> <td>44  </td> <td>nan    </td> <td>Y     </td> <td>3     </td> <td>nan               </td> <td>nan    </td> <td>nan       </td> <td>nan       </td> <td>nan        </td> <td>nan   </td>\n",
       "        </tr>\n",
       "    </tbody>\n",
       "        <tr>\n",
       "            <td>13        </td> <td>Imperial  </td> <td>1312100400  </td> <td>13121004</td> <td>51  </td> <td>40  </td> <td>56  </td> <td>1   </td> <td>nan    </td> <td>Calexico</td> <td>E           </td> <td>:title   </td> <td>130000307   </td> <td>6956498 </td> <td>1397827693</td> <td>92231 </td> <td>766      </td> <td>6.02501e+13    </td> <td>nan             </td> <td>nan             </td> <td>nan             </td> <td>nan         </td> <td>DS       </td> <td>F     </td> <td>5/7/2008  </td> <td>49  </td> <td>nan    </td> <td>Y     </td> <td>2     </td> <td>nan               </td> <td>nan    </td> <td>nan       </td> <td>nan       </td> <td>nan        </td> <td>nan   </td>\n",
       "        </tr>\n",
       "    </tbody>\n",
       "        <tr>\n",
       "            <td>13        </td> <td>Imperial  </td> <td>1312100400  </td> <td>13121004</td> <td>51  </td> <td>40  </td> <td>56  </td> <td>1   </td> <td>nan    </td> <td>Calexico</td> <td>E           </td> <td>:title   </td> <td>130000269   </td> <td>6966129 </td> <td>13588392  </td> <td>92231 </td> <td>756      </td> <td>6.02501e+13    </td> <td>nan             </td> <td>nan             </td> <td>nan             </td> <td>nan         </td> <td>D        </td> <td>M     </td> <td>10/20/2003</td> <td>46  </td> <td>nan    </td> <td>Y     </td> <td>2     </td> <td>nan               </td> <td>nan    </td> <td>nan       </td> <td>nan       </td> <td>nan        </td> <td>nan   </td>\n",
       "        </tr>\n",
       "    </tbody>\n",
       "        <tr>\n",
       "            <td>13        </td> <td>Imperial  </td> <td>1312100400  </td> <td>13121004</td> <td>51  </td> <td>40  </td> <td>56  </td> <td>1   </td> <td>nan    </td> <td>Calexico</td> <td>E           </td> <td>:title   </td> <td>130000298   </td> <td>6992531 </td> <td>1397828468</td> <td>92231 </td> <td>992      </td> <td>6.02501e+13    </td> <td>nan             </td> <td>nan             </td> <td>nan             </td> <td>nan         </td> <td>R        </td> <td>M     </td> <td>9/23/2012 </td> <td>61  </td> <td>nan    </td> <td>Y     </td> <td>3     </td> <td>nan               </td> <td>nan    </td> <td>nan       </td> <td>nan       </td> <td>nan        </td> <td>nan   </td>\n",
       "        </tr>\n",
       "    </tbody>\n",
       "        <tr>\n",
       "            <td>13        </td> <td>Imperial  </td> <td>1312100400  </td> <td>13121004</td> <td>51  </td> <td>40  </td> <td>56  </td> <td>1   </td> <td>nan    </td> <td>Calexico</td> <td>O           </td> <td>:title   </td> <td>130000090   </td> <td>17649579</td> <td>13620702  </td> <td>92231 </td> <td>969      </td> <td>6.02501e+13    </td> <td>nan             </td> <td>nan             </td> <td>nan             </td> <td>nan         </td> <td>D        </td> <td>U     </td> <td>8/17/2004 </td> <td>63  </td> <td>nan    </td> <td>Y     </td> <td>2     </td> <td>nan               </td> <td>nan    </td> <td>nan       </td> <td>nan       </td> <td>nan        </td> <td>nan   </td>\n",
       "        </tr>\n",
       "    </tbody>\n",
       "        <tr>\n",
       "            <td>13        </td> <td>Imperial  </td> <td>1312100400  </td> <td>13121004</td> <td>51  </td> <td>40  </td> <td>56  </td> <td>1   </td> <td>nan    </td> <td>Calexico</td> <td>E           </td> <td>:title   </td> <td>130000201   </td> <td>17659791</td> <td>13631946  </td> <td>92231 </td> <td>976      </td> <td>6.02501e+13    </td> <td>nan             </td> <td>nan             </td> <td>nan             </td> <td>nan         </td> <td>D        </td> <td>M     </td> <td>8/6/2013  </td> <td>59  </td> <td>nan    </td> <td>Y     </td> <td>5     </td> <td>nan               </td> <td>nan    </td> <td>nan       </td> <td>nan       </td> <td>nan        </td> <td>nan   </td>\n",
       "        </tr>\n",
       "    </tbody>\n",
       "        <tr>\n",
       "            <td>13        </td> <td>Imperial  </td> <td>1312100400  </td> <td>13121004</td> <td>51  </td> <td>40  </td> <td>56  </td> <td>1   </td> <td>nan    </td> <td>Calexico</td> <td>E           </td> <td>:title   </td> <td>130000284   </td> <td>6958705 </td> <td>13464809  </td> <td>92231 </td> <td>830      </td> <td>6.02501e+13    </td> <td>nan             </td> <td>nan             </td> <td>nan             </td> <td>nan         </td> <td>D        </td> <td>F     </td> <td>10/14/1999</td> <td>35  </td> <td>nan    </td> <td>Y     </td> <td>5     </td> <td>nan               </td> <td>nan    </td> <td>nan       </td> <td>nan       </td> <td>nan        </td> <td>nan   </td>\n",
       "        </tr>\n",
       "    </tbody>\n",
       "</table>\n",
       "<p>... (367452 rows omitted)</p"
      ],
      "text/plain": [
       "COUNTYCODE | COUNTYNAME | PRECINCTWSUB | PRECINCT | CD   | SD   | AD   | SUP  | COUNCIL | RA_CITY  | ODD_EVENCODE | FILETITLE | HOUSEHOLDAID | PDIID    | PRIMARYID  | RA_ZIP | RANGESORT | CENSUSBLOCK2010 | ELECTIONPRECINCT | POLLDESCRIPTION1 | POLLDESCRIPTION2 | POLLADDRESS1 | PARTYCODE | GENDER | REGDATE    | AGE  | SUPPORT | PERMAV | CNTVTS | MAILBALLOTPRECINCT | COMMENT | EXTERNALID | LOCALVALUE | AGENCYVALUE | STATUS\n",
       "13         | Imperial   | 1312100400   | 13121004 | 51   | 40   | 56   | 1    | nan     | Calexico | O            | :title    | 130000318    | 6960501  | 13114262   | 92231  | 791       | 6.02501e+13     | nan              | nan              | nan              | nan          | D         | F      | 10/7/1996  | 60   | nan     | Y      | 3      | nan                | nan     | nan        | nan        | nan         | nan\n",
       "13         | Imperial   | 1312100400   | 13121004 | 51   | 40   | 56   | 1    | nan     | Calexico | O            | :title    | 130000202    | 17655161 | 13584511   | 92231  | 977       | 6.02501e+13     | nan              | nan              | nan              | nan          | R         | F      | 8/22/2002  | 61   | nan     | Y      | 5      | nan                | nan     | nan        | nan        | nan         | nan\n",
       "13         | Imperial   | 1312100400   | 13121004 | 51   | 40   | 56   | 1    | nan     | Calexico | O            | :title    | 130000399    | 17649849 | 1395158    | 92231  | 1049      | 6.02501e+13     | nan              | nan              | nan              | nan          | D         | M      | 9/22/1994  | 59   | nan     | Y      | 4      | nan                | nan     | nan        | nan        | nan         | nan\n",
       "13         | Imperial   | 1312100400   | 13121004 | 51   | 40   | 56   | 1    | nan     | Calexico | E            | :title    | 130000266    | 17643742 | 1397847462 | 92231  | 740       | 6.02501e+13     | nan              | nan              | nan              | nan          | D         | F      | 10/22/2012 | 44   | nan     | Y      | 3      | nan                | nan     | nan        | nan        | nan         | nan\n",
       "13         | Imperial   | 1312100400   | 13121004 | 51   | 40   | 56   | 1    | nan     | Calexico | E            | :title    | 130000307    | 6956498  | 1397827693 | 92231  | 766       | 6.02501e+13     | nan              | nan              | nan              | nan          | DS        | F      | 5/7/2008   | 49   | nan     | Y      | 2      | nan                | nan     | nan        | nan        | nan         | nan\n",
       "13         | Imperial   | 1312100400   | 13121004 | 51   | 40   | 56   | 1    | nan     | Calexico | E            | :title    | 130000269    | 6966129  | 13588392   | 92231  | 756       | 6.02501e+13     | nan              | nan              | nan              | nan          | D         | M      | 10/20/2003 | 46   | nan     | Y      | 2      | nan                | nan     | nan        | nan        | nan         | nan\n",
       "13         | Imperial   | 1312100400   | 13121004 | 51   | 40   | 56   | 1    | nan     | Calexico | E            | :title    | 130000298    | 6992531  | 1397828468 | 92231  | 992       | 6.02501e+13     | nan              | nan              | nan              | nan          | R         | M      | 9/23/2012  | 61   | nan     | Y      | 3      | nan                | nan     | nan        | nan        | nan         | nan\n",
       "13         | Imperial   | 1312100400   | 13121004 | 51   | 40   | 56   | 1    | nan     | Calexico | O            | :title    | 130000090    | 17649579 | 13620702   | 92231  | 969       | 6.02501e+13     | nan              | nan              | nan              | nan          | D         | U      | 8/17/2004  | 63   | nan     | Y      | 2      | nan                | nan     | nan        | nan        | nan         | nan\n",
       "13         | Imperial   | 1312100400   | 13121004 | 51   | 40   | 56   | 1    | nan     | Calexico | E            | :title    | 130000201    | 17659791 | 13631946   | 92231  | 976       | 6.02501e+13     | nan              | nan              | nan              | nan          | D         | M      | 8/6/2013   | 59   | nan     | Y      | 5      | nan                | nan     | nan        | nan        | nan         | nan\n",
       "13         | Imperial   | 1312100400   | 13121004 | 51   | 40   | 56   | 1    | nan     | Calexico | E            | :title    | 130000284    | 6958705  | 13464809   | 92231  | 830       | 6.02501e+13     | nan              | nan              | nan              | nan          | D         | F      | 10/14/1999 | 35   | nan     | Y      | 5      | nan                | nan     | nan        | nan        | nan         | nan\n",
       "... (367452 rows omitted)"
      ]
     },
     "execution_count": 2,
     "metadata": {},
     "output_type": "execute_result"
    }
   ],
   "source": [
    "raw_data = Table.read_table('Export 1.csv')\n",
    "raw_data"
   ]
  },
  {
   "cell_type": "code",
   "execution_count": 3,
   "metadata": {
    "collapsed": false
   },
   "outputs": [
    {
     "data": {
      "image/png": "[encoded data removed]",
      "text/plain": [
       "<matplotlib.figure.Figure at 0x1b495252860>"
      ]
     },
     "metadata": {},
     "output_type": "display_data"
    }
   ],
   "source": [
    "imperial_county_parties = raw_data.where('COUNTYCODE', 13).column('PARTYCODE')\n",
    "imperial_county_party_tbl = Table().with_columns([\n",
    "        'party', imperial_county_parties, \n",
    "        'count', [1 for i in range(len(imperial_county_parties))]\n",
    "    ])\n",
    "imperial_county_party_tbl.group('party').barh(0)"
   ]
  },
  {
   "cell_type": "code",
   "execution_count": 4,
   "metadata": {
    "collapsed": false
   },
   "outputs": [
    {
     "data": {
      "text/html": [
       "<table border=\"1\" class=\"dataframe\">\n",
       "    <thead>\n",
       "        <tr>\n",
       "            <th>COUNTYCODE</th> <th>COUNTYNAME</th> <th>PRECINCTWSUB</th> <th>PRECINCT</th> <th>CD</th> <th>SD</th> <th>AD</th> <th>SUP</th> <th>COUNCIL</th> <th>RA_CITY</th> <th>ODD_EVENCODE</th> <th>FILETITLE</th> <th>HOUSEHOLDAID</th> <th>PDIID</th> <th>PRIMARYID</th> <th>RA_ZIP</th> <th>RANGESORT</th> <th>CENSUSBLOCK2010</th> <th>ELECTIONPRECINCT</th> <th>POLLDESCRIPTION1</th> <th>POLLDESCRIPTION2</th> <th>POLLADDRESS1</th> <th>PARTYCODE</th> <th>GENDER</th> <th>REGDATE</th> <th>AGE</th> <th>SUPPORT</th> <th>PERMAV</th> <th>CNTVTS</th> <th>MAILBALLOTPRECINCT</th> <th>COMMENT</th> <th>EXTERNALID</th> <th>LOCALVALUE</th> <th>AGENCYVALUE</th> <th>STATUS</th>\n",
       "        </tr>\n",
       "    </thead>\n",
       "    <tbody>\n",
       "        <tr>\n",
       "            <td>13        </td> <td>Imperial  </td> <td>1312100400  </td> <td>13121004</td> <td>51  </td> <td>40  </td> <td>56  </td> <td>1   </td> <td>nan    </td> <td>Calexico</td> <td>O           </td> <td>:title   </td> <td>130000318   </td> <td>6960501 </td> <td>13114262  </td> <td>92231 </td> <td>791      </td> <td>6.02501e+13    </td> <td>nan             </td> <td>nan             </td> <td>nan             </td> <td>nan         </td> <td>D        </td> <td>F     </td> <td>10/7/1996 </td> <td>60  </td> <td>nan    </td> <td>Y     </td> <td>3     </td> <td>nan               </td> <td>nan    </td> <td>nan       </td> <td>nan       </td> <td>nan        </td> <td>nan   </td>\n",
       "        </tr>\n",
       "    </tbody>\n",
       "        <tr>\n",
       "            <td>13        </td> <td>Imperial  </td> <td>1312100400  </td> <td>13121004</td> <td>51  </td> <td>40  </td> <td>56  </td> <td>1   </td> <td>nan    </td> <td>Calexico</td> <td>O           </td> <td>:title   </td> <td>130000202   </td> <td>17655161</td> <td>13584511  </td> <td>92231 </td> <td>977      </td> <td>6.02501e+13    </td> <td>nan             </td> <td>nan             </td> <td>nan             </td> <td>nan         </td> <td>R        </td> <td>F     </td> <td>8/22/2002 </td> <td>61  </td> <td>nan    </td> <td>Y     </td> <td>5     </td> <td>nan               </td> <td>nan    </td> <td>nan       </td> <td>nan       </td> <td>nan        </td> <td>nan   </td>\n",
       "        </tr>\n",
       "    </tbody>\n",
       "        <tr>\n",
       "            <td>13        </td> <td>Imperial  </td> <td>1312100400  </td> <td>13121004</td> <td>51  </td> <td>40  </td> <td>56  </td> <td>1   </td> <td>nan    </td> <td>Calexico</td> <td>O           </td> <td>:title   </td> <td>130000399   </td> <td>17649849</td> <td>1395158   </td> <td>92231 </td> <td>1049     </td> <td>6.02501e+13    </td> <td>nan             </td> <td>nan             </td> <td>nan             </td> <td>nan         </td> <td>D        </td> <td>M     </td> <td>9/22/1994 </td> <td>59  </td> <td>nan    </td> <td>Y     </td> <td>4     </td> <td>nan               </td> <td>nan    </td> <td>nan       </td> <td>nan       </td> <td>nan        </td> <td>nan   </td>\n",
       "        </tr>\n",
       "    </tbody>\n",
       "        <tr>\n",
       "            <td>13        </td> <td>Imperial  </td> <td>1312100400  </td> <td>13121004</td> <td>51  </td> <td>40  </td> <td>56  </td> <td>1   </td> <td>nan    </td> <td>Calexico</td> <td>E           </td> <td>:title   </td> <td>130000266   </td> <td>17643742</td> <td>1397847462</td> <td>92231 </td> <td>740      </td> <td>6.02501e+13    </td> <td>nan             </td> <td>nan             </td> <td>nan             </td> <td>nan         </td> <td>D        </td> <td>F     </td> <td>10/22/2012</td> <td>44  </td> <td>nan    </td> <td>Y     </td> <td>3     </td> <td>nan               </td> <td>nan    </td> <td>nan       </td> <td>nan       </td> <td>nan        </td> <td>nan   </td>\n",
       "        </tr>\n",
       "    </tbody>\n",
       "        <tr>\n",
       "            <td>13        </td> <td>Imperial  </td> <td>1312100400  </td> <td>13121004</td> <td>51  </td> <td>40  </td> <td>56  </td> <td>1   </td> <td>nan    </td> <td>Calexico</td> <td>E           </td> <td>:title   </td> <td>130000307   </td> <td>6956498 </td> <td>1397827693</td> <td>92231 </td> <td>766      </td> <td>6.02501e+13    </td> <td>nan             </td> <td>nan             </td> <td>nan             </td> <td>nan         </td> <td>DS       </td> <td>F     </td> <td>5/7/2008  </td> <td>49  </td> <td>nan    </td> <td>Y     </td> <td>2     </td> <td>nan               </td> <td>nan    </td> <td>nan       </td> <td>nan       </td> <td>nan        </td> <td>nan   </td>\n",
       "        </tr>\n",
       "    </tbody>\n",
       "        <tr>\n",
       "            <td>13        </td> <td>Imperial  </td> <td>1312100400  </td> <td>13121004</td> <td>51  </td> <td>40  </td> <td>56  </td> <td>1   </td> <td>nan    </td> <td>Calexico</td> <td>E           </td> <td>:title   </td> <td>130000269   </td> <td>6966129 </td> <td>13588392  </td> <td>92231 </td> <td>756      </td> <td>6.02501e+13    </td> <td>nan             </td> <td>nan             </td> <td>nan             </td> <td>nan         </td> <td>D        </td> <td>M     </td> <td>10/20/2003</td> <td>46  </td> <td>nan    </td> <td>Y     </td> <td>2     </td> <td>nan               </td> <td>nan    </td> <td>nan       </td> <td>nan       </td> <td>nan        </td> <td>nan   </td>\n",
       "        </tr>\n",
       "    </tbody>\n",
       "        <tr>\n",
       "            <td>13        </td> <td>Imperial  </td> <td>1312100400  </td> <td>13121004</td> <td>51  </td> <td>40  </td> <td>56  </td> <td>1   </td> <td>nan    </td> <td>Calexico</td> <td>E           </td> <td>:title   </td> <td>130000298   </td> <td>6992531 </td> <td>1397828468</td> <td>92231 </td> <td>992      </td> <td>6.02501e+13    </td> <td>nan             </td> <td>nan             </td> <td>nan             </td> <td>nan         </td> <td>R        </td> <td>M     </td> <td>9/23/2012 </td> <td>61  </td> <td>nan    </td> <td>Y     </td> <td>3     </td> <td>nan               </td> <td>nan    </td> <td>nan       </td> <td>nan       </td> <td>nan        </td> <td>nan   </td>\n",
       "        </tr>\n",
       "    </tbody>\n",
       "        <tr>\n",
       "            <td>13        </td> <td>Imperial  </td> <td>1312100400  </td> <td>13121004</td> <td>51  </td> <td>40  </td> <td>56  </td> <td>1   </td> <td>nan    </td> <td>Calexico</td> <td>O           </td> <td>:title   </td> <td>130000090   </td> <td>17649579</td> <td>13620702  </td> <td>92231 </td> <td>969      </td> <td>6.02501e+13    </td> <td>nan             </td> <td>nan             </td> <td>nan             </td> <td>nan         </td> <td>D        </td> <td>U     </td> <td>8/17/2004 </td> <td>63  </td> <td>nan    </td> <td>Y     </td> <td>2     </td> <td>nan               </td> <td>nan    </td> <td>nan       </td> <td>nan       </td> <td>nan        </td> <td>nan   </td>\n",
       "        </tr>\n",
       "    </tbody>\n",
       "        <tr>\n",
       "            <td>13        </td> <td>Imperial  </td> <td>1312100400  </td> <td>13121004</td> <td>51  </td> <td>40  </td> <td>56  </td> <td>1   </td> <td>nan    </td> <td>Calexico</td> <td>E           </td> <td>:title   </td> <td>130000201   </td> <td>17659791</td> <td>13631946  </td> <td>92231 </td> <td>976      </td> <td>6.02501e+13    </td> <td>nan             </td> <td>nan             </td> <td>nan             </td> <td>nan         </td> <td>D        </td> <td>M     </td> <td>8/6/2013  </td> <td>59  </td> <td>nan    </td> <td>Y     </td> <td>5     </td> <td>nan               </td> <td>nan    </td> <td>nan       </td> <td>nan       </td> <td>nan        </td> <td>nan   </td>\n",
       "        </tr>\n",
       "    </tbody>\n",
       "        <tr>\n",
       "            <td>13        </td> <td>Imperial  </td> <td>1312100400  </td> <td>13121004</td> <td>51  </td> <td>40  </td> <td>56  </td> <td>1   </td> <td>nan    </td> <td>Calexico</td> <td>E           </td> <td>:title   </td> <td>130000284   </td> <td>6958705 </td> <td>13464809  </td> <td>92231 </td> <td>830      </td> <td>6.02501e+13    </td> <td>nan             </td> <td>nan             </td> <td>nan             </td> <td>nan         </td> <td>D        </td> <td>F     </td> <td>10/14/1999</td> <td>35  </td> <td>nan    </td> <td>Y     </td> <td>5     </td> <td>nan               </td> <td>nan    </td> <td>nan       </td> <td>nan       </td> <td>nan        </td> <td>nan   </td>\n",
       "        </tr>\n",
       "    </tbody>\n",
       "</table>\n",
       "<p>... (1979 rows omitted)</p"
      ],
      "text/plain": [
       "COUNTYCODE | COUNTYNAME | PRECINCTWSUB | PRECINCT | CD   | SD   | AD   | SUP  | COUNCIL | RA_CITY  | ODD_EVENCODE | FILETITLE | HOUSEHOLDAID | PDIID    | PRIMARYID  | RA_ZIP | RANGESORT | CENSUSBLOCK2010 | ELECTIONPRECINCT | POLLDESCRIPTION1 | POLLDESCRIPTION2 | POLLADDRESS1 | PARTYCODE | GENDER | REGDATE    | AGE  | SUPPORT | PERMAV | CNTVTS | MAILBALLOTPRECINCT | COMMENT | EXTERNALID | LOCALVALUE | AGENCYVALUE | STATUS\n",
       "13         | Imperial   | 1312100400   | 13121004 | 51   | 40   | 56   | 1    | nan     | Calexico | O            | :title    | 130000318    | 6960501  | 13114262   | 92231  | 791       | 6.02501e+13     | nan              | nan              | nan              | nan          | D         | F      | 10/7/1996  | 60   | nan     | Y      | 3      | nan                | nan     | nan        | nan        | nan         | nan\n",
       "13         | Imperial   | 1312100400   | 13121004 | 51   | 40   | 56   | 1    | nan     | Calexico | O            | :title    | 130000202    | 17655161 | 13584511   | 92231  | 977       | 6.02501e+13     | nan              | nan              | nan              | nan          | R         | F      | 8/22/2002  | 61   | nan     | Y      | 5      | nan                | nan     | nan        | nan        | nan         | nan\n",
       "13         | Imperial   | 1312100400   | 13121004 | 51   | 40   | 56   | 1    | nan     | Calexico | O            | :title    | 130000399    | 17649849 | 1395158    | 92231  | 1049      | 6.02501e+13     | nan              | nan              | nan              | nan          | D         | M      | 9/22/1994  | 59   | nan     | Y      | 4      | nan                | nan     | nan        | nan        | nan         | nan\n",
       "13         | Imperial   | 1312100400   | 13121004 | 51   | 40   | 56   | 1    | nan     | Calexico | E            | :title    | 130000266    | 17643742 | 1397847462 | 92231  | 740       | 6.02501e+13     | nan              | nan              | nan              | nan          | D         | F      | 10/22/2012 | 44   | nan     | Y      | 3      | nan                | nan     | nan        | nan        | nan         | nan\n",
       "13         | Imperial   | 1312100400   | 13121004 | 51   | 40   | 56   | 1    | nan     | Calexico | E            | :title    | 130000307    | 6956498  | 1397827693 | 92231  | 766       | 6.02501e+13     | nan              | nan              | nan              | nan          | DS        | F      | 5/7/2008   | 49   | nan     | Y      | 2      | nan                | nan     | nan        | nan        | nan         | nan\n",
       "13         | Imperial   | 1312100400   | 13121004 | 51   | 40   | 56   | 1    | nan     | Calexico | E            | :title    | 130000269    | 6966129  | 13588392   | 92231  | 756       | 6.02501e+13     | nan              | nan              | nan              | nan          | D         | M      | 10/20/2003 | 46   | nan     | Y      | 2      | nan                | nan     | nan        | nan        | nan         | nan\n",
       "13         | Imperial   | 1312100400   | 13121004 | 51   | 40   | 56   | 1    | nan     | Calexico | E            | :title    | 130000298    | 6992531  | 1397828468 | 92231  | 992       | 6.02501e+13     | nan              | nan              | nan              | nan          | R         | M      | 9/23/2012  | 61   | nan     | Y      | 3      | nan                | nan     | nan        | nan        | nan         | nan\n",
       "13         | Imperial   | 1312100400   | 13121004 | 51   | 40   | 56   | 1    | nan     | Calexico | O            | :title    | 130000090    | 17649579 | 13620702   | 92231  | 969       | 6.02501e+13     | nan              | nan              | nan              | nan          | D         | U      | 8/17/2004  | 63   | nan     | Y      | 2      | nan                | nan     | nan        | nan        | nan         | nan\n",
       "13         | Imperial   | 1312100400   | 13121004 | 51   | 40   | 56   | 1    | nan     | Calexico | E            | :title    | 130000201    | 17659791 | 13631946   | 92231  | 976       | 6.02501e+13     | nan              | nan              | nan              | nan          | D         | M      | 8/6/2013   | 59   | nan     | Y      | 5      | nan                | nan     | nan        | nan        | nan         | nan\n",
       "13         | Imperial   | 1312100400   | 13121004 | 51   | 40   | 56   | 1    | nan     | Calexico | E            | :title    | 130000284    | 6958705  | 13464809   | 92231  | 830       | 6.02501e+13     | nan              | nan              | nan              | nan          | D         | F      | 10/14/1999 | 35   | nan     | Y      | 5      | nan                | nan     | nan        | nan        | nan         | nan\n",
       "... (1979 rows omitted)"
      ]
     },
     "execution_count": 4,
     "metadata": {},
     "output_type": "execute_result"
    }
   ],
   "source": [
    "raw_data.where('COUNTYCODE', 13)"
   ]
  },
  {
   "cell_type": "code",
   "execution_count": 5,
   "metadata": {
    "collapsed": false
   },
   "outputs": [
    {
     "data": {
      "text/plain": [
       "{'AD': 56,\n",
       " 'AGE': 60.0,\n",
       " 'AGENCYVALUE': nan,\n",
       " 'CD': 51,\n",
       " 'CENSUSBLOCK2010': 60250100000000.0,\n",
       " 'CNTVTS': 3,\n",
       " 'COMMENT': nan,\n",
       " 'COUNCIL': 'nan',\n",
       " 'COUNTYCODE': 13,\n",
       " 'COUNTYNAME': 'Imperial',\n",
       " 'ELECTIONPRECINCT': nan,\n",
       " 'EXTERNALID': nan,\n",
       " 'FILETITLE': ':title',\n",
       " 'GENDER': 'F',\n",
       " 'HOUSEHOLDAID': 130000318,\n",
       " 'LOCALVALUE': nan,\n",
       " 'MAILBALLOTPRECINCT': nan,\n",
       " 'ODD_EVENCODE': 'O',\n",
       " 'PARTYCODE': 'D',\n",
       " 'PDIID': 6960501,\n",
       " 'PERMAV': 'Y',\n",
       " 'POLLADDRESS1': nan,\n",
       " 'POLLDESCRIPTION1': nan,\n",
       " 'POLLDESCRIPTION2': nan,\n",
       " 'PRECINCT': 13121004,\n",
       " 'PRECINCTWSUB': '1312100400',\n",
       " 'PRIMARYID': '13114262',\n",
       " 'RANGESORT': '791',\n",
       " 'RA_CITY': 'Calexico',\n",
       " 'RA_ZIP': 92231,\n",
       " 'REGDATE': '10/7/1996',\n",
       " 'SD': 40,\n",
       " 'STATUS': nan,\n",
       " 'SUP': 1,\n",
       " 'SUPPORT': nan}"
      ]
     },
     "execution_count": 5,
     "metadata": {},
     "output_type": "execute_result"
    }
   ],
   "source": [
    "first_vals = {}\n",
    "for col in raw_data: \n",
    "    first_vals[col] = raw_data.column(col).item(0)\n",
    "first_vals\n",
    "    "
   ]
  },
  {
   "cell_type": "code",
   "execution_count": 6,
   "metadata": {
    "collapsed": false
   },
   "outputs": [
    {
     "data": {
      "text/plain": [
       "{'AD': True,\n",
       " 'AGE': True,\n",
       " 'AGENCYVALUE': True,\n",
       " 'CD': True,\n",
       " 'CENSUSBLOCK2010': True,\n",
       " 'CNTVTS': True,\n",
       " 'COMMENT': True,\n",
       " 'COUNCIL': True,\n",
       " 'COUNTYCODE': True,\n",
       " 'COUNTYNAME': True,\n",
       " 'ELECTIONPRECINCT': True,\n",
       " 'EXTERNALID': True,\n",
       " 'FILETITLE': False,\n",
       " 'GENDER': True,\n",
       " 'HOUSEHOLDAID': True,\n",
       " 'LOCALVALUE': True,\n",
       " 'MAILBALLOTPRECINCT': True,\n",
       " 'ODD_EVENCODE': True,\n",
       " 'PARTYCODE': True,\n",
       " 'PDIID': True,\n",
       " 'PERMAV': True,\n",
       " 'POLLADDRESS1': True,\n",
       " 'POLLDESCRIPTION1': True,\n",
       " 'POLLDESCRIPTION2': True,\n",
       " 'PRECINCT': True,\n",
       " 'PRECINCTWSUB': True,\n",
       " 'PRIMARYID': True,\n",
       " 'RANGESORT': True,\n",
       " 'RA_CITY': True,\n",
       " 'RA_ZIP': True,\n",
       " 'REGDATE': True,\n",
       " 'SD': True,\n",
       " 'STATUS': True,\n",
       " 'SUP': True,\n",
       " 'SUPPORT': True}"
      ]
     },
     "execution_count": 6,
     "metadata": {},
     "output_type": "execute_result"
    }
   ],
   "source": [
    "#finding useless columns\n",
    "useful_cols = {}\n",
    "for col in raw_data:\n",
    "    use = False\n",
    "    i = 0\n",
    "    for item in raw_data.column(col):\n",
    "        if item != first_vals[col]:\n",
    "            use = True\n",
    "            break\n",
    "        i += 1\n",
    "    useful_cols[col] = use\n",
    "useful_cols\n",
    "        "
   ]
  },
  {
   "cell_type": "code",
   "execution_count": 7,
   "metadata": {
    "collapsed": false
   },
   "outputs": [
    {
     "data": {
      "text/html": [
       "<table border=\"1\" class=\"dataframe\">\n",
       "    <thead>\n",
       "        <tr>\n",
       "            <th>COUNTYCODE</th> <th>COUNTYNAME</th> <th>PRECINCTWSUB</th> <th>PRECINCT</th> <th>CD</th> <th>SD</th> <th>AD</th> <th>SUP</th> <th>COUNCIL</th> <th>RA_CITY</th> <th>ODD_EVENCODE</th> <th>HOUSEHOLDAID</th> <th>PDIID</th> <th>PRIMARYID</th> <th>RA_ZIP</th> <th>RANGESORT</th> <th>CENSUSBLOCK2010</th> <th>ELECTIONPRECINCT</th> <th>POLLDESCRIPTION1</th> <th>POLLDESCRIPTION2</th> <th>POLLADDRESS1</th> <th>PARTYCODE</th> <th>GENDER</th> <th>REGDATE</th> <th>AGE</th> <th>SUPPORT</th> <th>PERMAV</th> <th>CNTVTS</th> <th>MAILBALLOTPRECINCT</th> <th>COMMENT</th> <th>EXTERNALID</th> <th>LOCALVALUE</th> <th>AGENCYVALUE</th> <th>STATUS</th>\n",
       "        </tr>\n",
       "    </thead>\n",
       "    <tbody>\n",
       "        <tr>\n",
       "            <td>13        </td> <td>Imperial  </td> <td>1312100400  </td> <td>13121004</td> <td>51  </td> <td>40  </td> <td>56  </td> <td>1   </td> <td>nan    </td> <td>Calexico</td> <td>O           </td> <td>130000318   </td> <td>6960501 </td> <td>13114262  </td> <td>92231 </td> <td>791      </td> <td>6.02501e+13    </td> <td>nan             </td> <td>nan             </td> <td>nan             </td> <td>nan         </td> <td>D        </td> <td>F     </td> <td>10/7/1996 </td> <td>60  </td> <td>nan    </td> <td>Y     </td> <td>3     </td> <td>nan               </td> <td>nan    </td> <td>nan       </td> <td>nan       </td> <td>nan        </td> <td>nan   </td>\n",
       "        </tr>\n",
       "    </tbody>\n",
       "        <tr>\n",
       "            <td>13        </td> <td>Imperial  </td> <td>1312100400  </td> <td>13121004</td> <td>51  </td> <td>40  </td> <td>56  </td> <td>1   </td> <td>nan    </td> <td>Calexico</td> <td>O           </td> <td>130000202   </td> <td>17655161</td> <td>13584511  </td> <td>92231 </td> <td>977      </td> <td>6.02501e+13    </td> <td>nan             </td> <td>nan             </td> <td>nan             </td> <td>nan         </td> <td>R        </td> <td>F     </td> <td>8/22/2002 </td> <td>61  </td> <td>nan    </td> <td>Y     </td> <td>5     </td> <td>nan               </td> <td>nan    </td> <td>nan       </td> <td>nan       </td> <td>nan        </td> <td>nan   </td>\n",
       "        </tr>\n",
       "    </tbody>\n",
       "        <tr>\n",
       "            <td>13        </td> <td>Imperial  </td> <td>1312100400  </td> <td>13121004</td> <td>51  </td> <td>40  </td> <td>56  </td> <td>1   </td> <td>nan    </td> <td>Calexico</td> <td>O           </td> <td>130000399   </td> <td>17649849</td> <td>1395158   </td> <td>92231 </td> <td>1049     </td> <td>6.02501e+13    </td> <td>nan             </td> <td>nan             </td> <td>nan             </td> <td>nan         </td> <td>D        </td> <td>M     </td> <td>9/22/1994 </td> <td>59  </td> <td>nan    </td> <td>Y     </td> <td>4     </td> <td>nan               </td> <td>nan    </td> <td>nan       </td> <td>nan       </td> <td>nan        </td> <td>nan   </td>\n",
       "        </tr>\n",
       "    </tbody>\n",
       "        <tr>\n",
       "            <td>13        </td> <td>Imperial  </td> <td>1312100400  </td> <td>13121004</td> <td>51  </td> <td>40  </td> <td>56  </td> <td>1   </td> <td>nan    </td> <td>Calexico</td> <td>E           </td> <td>130000266   </td> <td>17643742</td> <td>1397847462</td> <td>92231 </td> <td>740      </td> <td>6.02501e+13    </td> <td>nan             </td> <td>nan             </td> <td>nan             </td> <td>nan         </td> <td>D        </td> <td>F     </td> <td>10/22/2012</td> <td>44  </td> <td>nan    </td> <td>Y     </td> <td>3     </td> <td>nan               </td> <td>nan    </td> <td>nan       </td> <td>nan       </td> <td>nan        </td> <td>nan   </td>\n",
       "        </tr>\n",
       "    </tbody>\n",
       "        <tr>\n",
       "            <td>13        </td> <td>Imperial  </td> <td>1312100400  </td> <td>13121004</td> <td>51  </td> <td>40  </td> <td>56  </td> <td>1   </td> <td>nan    </td> <td>Calexico</td> <td>E           </td> <td>130000307   </td> <td>6956498 </td> <td>1397827693</td> <td>92231 </td> <td>766      </td> <td>6.02501e+13    </td> <td>nan             </td> <td>nan             </td> <td>nan             </td> <td>nan         </td> <td>DS       </td> <td>F     </td> <td>5/7/2008  </td> <td>49  </td> <td>nan    </td> <td>Y     </td> <td>2     </td> <td>nan               </td> <td>nan    </td> <td>nan       </td> <td>nan       </td> <td>nan        </td> <td>nan   </td>\n",
       "        </tr>\n",
       "    </tbody>\n",
       "        <tr>\n",
       "            <td>13        </td> <td>Imperial  </td> <td>1312100400  </td> <td>13121004</td> <td>51  </td> <td>40  </td> <td>56  </td> <td>1   </td> <td>nan    </td> <td>Calexico</td> <td>E           </td> <td>130000269   </td> <td>6966129 </td> <td>13588392  </td> <td>92231 </td> <td>756      </td> <td>6.02501e+13    </td> <td>nan             </td> <td>nan             </td> <td>nan             </td> <td>nan         </td> <td>D        </td> <td>M     </td> <td>10/20/2003</td> <td>46  </td> <td>nan    </td> <td>Y     </td> <td>2     </td> <td>nan               </td> <td>nan    </td> <td>nan       </td> <td>nan       </td> <td>nan        </td> <td>nan   </td>\n",
       "        </tr>\n",
       "    </tbody>\n",
       "        <tr>\n",
       "            <td>13        </td> <td>Imperial  </td> <td>1312100400  </td> <td>13121004</td> <td>51  </td> <td>40  </td> <td>56  </td> <td>1   </td> <td>nan    </td> <td>Calexico</td> <td>E           </td> <td>130000298   </td> <td>6992531 </td> <td>1397828468</td> <td>92231 </td> <td>992      </td> <td>6.02501e+13    </td> <td>nan             </td> <td>nan             </td> <td>nan             </td> <td>nan         </td> <td>R        </td> <td>M     </td> <td>9/23/2012 </td> <td>61  </td> <td>nan    </td> <td>Y     </td> <td>3     </td> <td>nan               </td> <td>nan    </td> <td>nan       </td> <td>nan       </td> <td>nan        </td> <td>nan   </td>\n",
       "        </tr>\n",
       "    </tbody>\n",
       "        <tr>\n",
       "            <td>13        </td> <td>Imperial  </td> <td>1312100400  </td> <td>13121004</td> <td>51  </td> <td>40  </td> <td>56  </td> <td>1   </td> <td>nan    </td> <td>Calexico</td> <td>O           </td> <td>130000090   </td> <td>17649579</td> <td>13620702  </td> <td>92231 </td> <td>969      </td> <td>6.02501e+13    </td> <td>nan             </td> <td>nan             </td> <td>nan             </td> <td>nan         </td> <td>D        </td> <td>U     </td> <td>8/17/2004 </td> <td>63  </td> <td>nan    </td> <td>Y     </td> <td>2     </td> <td>nan               </td> <td>nan    </td> <td>nan       </td> <td>nan       </td> <td>nan        </td> <td>nan   </td>\n",
       "        </tr>\n",
       "    </tbody>\n",
       "        <tr>\n",
       "            <td>13        </td> <td>Imperial  </td> <td>1312100400  </td> <td>13121004</td> <td>51  </td> <td>40  </td> <td>56  </td> <td>1   </td> <td>nan    </td> <td>Calexico</td> <td>E           </td> <td>130000201   </td> <td>17659791</td> <td>13631946  </td> <td>92231 </td> <td>976      </td> <td>6.02501e+13    </td> <td>nan             </td> <td>nan             </td> <td>nan             </td> <td>nan         </td> <td>D        </td> <td>M     </td> <td>8/6/2013  </td> <td>59  </td> <td>nan    </td> <td>Y     </td> <td>5     </td> <td>nan               </td> <td>nan    </td> <td>nan       </td> <td>nan       </td> <td>nan        </td> <td>nan   </td>\n",
       "        </tr>\n",
       "    </tbody>\n",
       "        <tr>\n",
       "            <td>13        </td> <td>Imperial  </td> <td>1312100400  </td> <td>13121004</td> <td>51  </td> <td>40  </td> <td>56  </td> <td>1   </td> <td>nan    </td> <td>Calexico</td> <td>E           </td> <td>130000284   </td> <td>6958705 </td> <td>13464809  </td> <td>92231 </td> <td>830      </td> <td>6.02501e+13    </td> <td>nan             </td> <td>nan             </td> <td>nan             </td> <td>nan         </td> <td>D        </td> <td>F     </td> <td>10/14/1999</td> <td>35  </td> <td>nan    </td> <td>Y     </td> <td>5     </td> <td>nan               </td> <td>nan    </td> <td>nan       </td> <td>nan       </td> <td>nan        </td> <td>nan   </td>\n",
       "        </tr>\n",
       "    </tbody>\n",
       "</table>\n",
       "<p>... (367452 rows omitted)</p"
      ],
      "text/plain": [
       "COUNTYCODE | COUNTYNAME | PRECINCTWSUB | PRECINCT | CD   | SD   | AD   | SUP  | COUNCIL | RA_CITY  | ODD_EVENCODE | HOUSEHOLDAID | PDIID    | PRIMARYID  | RA_ZIP | RANGESORT | CENSUSBLOCK2010 | ELECTIONPRECINCT | POLLDESCRIPTION1 | POLLDESCRIPTION2 | POLLADDRESS1 | PARTYCODE | GENDER | REGDATE    | AGE  | SUPPORT | PERMAV | CNTVTS | MAILBALLOTPRECINCT | COMMENT | EXTERNALID | LOCALVALUE | AGENCYVALUE | STATUS\n",
       "13         | Imperial   | 1312100400   | 13121004 | 51   | 40   | 56   | 1    | nan     | Calexico | O            | 130000318    | 6960501  | 13114262   | 92231  | 791       | 6.02501e+13     | nan              | nan              | nan              | nan          | D         | F      | 10/7/1996  | 60   | nan     | Y      | 3      | nan                | nan     | nan        | nan        | nan         | nan\n",
       "13         | Imperial   | 1312100400   | 13121004 | 51   | 40   | 56   | 1    | nan     | Calexico | O            | 130000202    | 17655161 | 13584511   | 92231  | 977       | 6.02501e+13     | nan              | nan              | nan              | nan          | R         | F      | 8/22/2002  | 61   | nan     | Y      | 5      | nan                | nan     | nan        | nan        | nan         | nan\n",
       "13         | Imperial   | 1312100400   | 13121004 | 51   | 40   | 56   | 1    | nan     | Calexico | O            | 130000399    | 17649849 | 1395158    | 92231  | 1049      | 6.02501e+13     | nan              | nan              | nan              | nan          | D         | M      | 9/22/1994  | 59   | nan     | Y      | 4      | nan                | nan     | nan        | nan        | nan         | nan\n",
       "13         | Imperial   | 1312100400   | 13121004 | 51   | 40   | 56   | 1    | nan     | Calexico | E            | 130000266    | 17643742 | 1397847462 | 92231  | 740       | 6.02501e+13     | nan              | nan              | nan              | nan          | D         | F      | 10/22/2012 | 44   | nan     | Y      | 3      | nan                | nan     | nan        | nan        | nan         | nan\n",
       "13         | Imperial   | 1312100400   | 13121004 | 51   | 40   | 56   | 1    | nan     | Calexico | E            | 130000307    | 6956498  | 1397827693 | 92231  | 766       | 6.02501e+13     | nan              | nan              | nan              | nan          | DS        | F      | 5/7/2008   | 49   | nan     | Y      | 2      | nan                | nan     | nan        | nan        | nan         | nan\n",
       "13         | Imperial   | 1312100400   | 13121004 | 51   | 40   | 56   | 1    | nan     | Calexico | E            | 130000269    | 6966129  | 13588392   | 92231  | 756       | 6.02501e+13     | nan              | nan              | nan              | nan          | D         | M      | 10/20/2003 | 46   | nan     | Y      | 2      | nan                | nan     | nan        | nan        | nan         | nan\n",
       "13         | Imperial   | 1312100400   | 13121004 | 51   | 40   | 56   | 1    | nan     | Calexico | E            | 130000298    | 6992531  | 1397828468 | 92231  | 992       | 6.02501e+13     | nan              | nan              | nan              | nan          | R         | M      | 9/23/2012  | 61   | nan     | Y      | 3      | nan                | nan     | nan        | nan        | nan         | nan\n",
       "13         | Imperial   | 1312100400   | 13121004 | 51   | 40   | 56   | 1    | nan     | Calexico | O            | 130000090    | 17649579 | 13620702   | 92231  | 969       | 6.02501e+13     | nan              | nan              | nan              | nan          | D         | U      | 8/17/2004  | 63   | nan     | Y      | 2      | nan                | nan     | nan        | nan        | nan         | nan\n",
       "13         | Imperial   | 1312100400   | 13121004 | 51   | 40   | 56   | 1    | nan     | Calexico | E            | 130000201    | 17659791 | 13631946   | 92231  | 976       | 6.02501e+13     | nan              | nan              | nan              | nan          | D         | M      | 8/6/2013   | 59   | nan     | Y      | 5      | nan                | nan     | nan        | nan        | nan         | nan\n",
       "13         | Imperial   | 1312100400   | 13121004 | 51   | 40   | 56   | 1    | nan     | Calexico | E            | 130000284    | 6958705  | 13464809   | 92231  | 830       | 6.02501e+13     | nan              | nan              | nan              | nan          | D         | F      | 10/14/1999 | 35   | nan     | Y      | 5      | nan                | nan     | nan        | nan        | nan         | nan\n",
       "... (367452 rows omitted)"
      ]
     },
     "execution_count": 7,
     "metadata": {},
     "output_type": "execute_result"
    }
   ],
   "source": [
    "useful_data = raw_data.drop('FILETITLE')\n",
    "useful_data"
   ]
  },
  {
   "cell_type": "code",
   "execution_count": 8,
   "metadata": {
    "collapsed": false
   },
   "outputs": [],
   "source": [
    "zipcodes = [90274, 90266, 94109, 90025, 95377, 91505, 90272, 94301, 95129, 92009, 92075, 93923, 92603, 91792, 92243, \\\n",
    "            95377, 92620, 91602]"
   ]
  },
  {
   "cell_type": "code",
   "execution_count": 9,
   "metadata": {
    "collapsed": false
   },
   "outputs": [
    {
     "data": {
      "text/plain": [
       "dict_keys([90272, 90274, 93923, 91505, 92009, 92075, 92620, 94301, 91792, 95377, 91602, 92243, 90025, 95129, 90266, 92603, 94109])"
      ]
     },
     "execution_count": 9,
     "metadata": {},
     "output_type": "execute_result"
    }
   ],
   "source": [
    "tbl_by_zips = {}\n",
    "for place in zipcodes: \n",
    "    tbl_by_zips[place] = useful_data.where('RA_ZIP', place)\n",
    "tbl_by_zips.keys()"
   ]
  },
  {
   "cell_type": "code",
   "execution_count": 10,
   "metadata": {
    "collapsed": false
   },
   "outputs": [
    {
     "data": {
      "text/html": [
       "<table border=\"1\" class=\"dataframe\">\n",
       "    <thead>\n",
       "        <tr>\n",
       "            <th>COUNTYCODE</th> <th>COUNTYNAME</th> <th>PRECINCTWSUB</th> <th>PRECINCT</th> <th>CD</th> <th>SD</th> <th>AD</th> <th>SUP</th> <th>COUNCIL</th> <th>RA_CITY</th> <th>ODD_EVENCODE</th> <th>HOUSEHOLDAID</th> <th>PDIID</th> <th>PRIMARYID</th> <th>RA_ZIP</th> <th>RANGESORT</th> <th>CENSUSBLOCK2010</th> <th>ELECTIONPRECINCT</th> <th>POLLDESCRIPTION1</th> <th>POLLDESCRIPTION2</th> <th>POLLADDRESS1</th> <th>PARTYCODE</th> <th>GENDER</th> <th>REGDATE</th> <th>AGE</th> <th>SUPPORT</th> <th>PERMAV</th> <th>CNTVTS</th> <th>MAILBALLOTPRECINCT</th> <th>COMMENT</th> <th>EXTERNALID</th> <th>LOCALVALUE</th> <th>AGENCYVALUE</th> <th>STATUS</th>\n",
       "        </tr>\n",
       "    </thead>\n",
       "    <tbody>\n",
       "        <tr>\n",
       "            <td>19        </td> <td>Los Angeles</td> <td>199000309B  </td> <td>199000309</td> <td>33  </td> <td>26  </td> <td>50  </td> <td>3   </td> <td>LS011  </td> <td>Pacific Palisades</td> <td>O           </td> <td>191727831   </td> <td>20358100</td> <td>19289134951</td> <td>90272 </td> <td>1443     </td> <td>6.03798e+13    </td> <td>nan             </td> <td>nan             </td> <td>nan             </td> <td>nan         </td> <td>D        </td> <td>F     </td> <td>6/11/2007 </td> <td>64  </td> <td>nan    </td> <td>Y     </td> <td>5     </td> <td>nan               </td> <td>nan    </td> <td>nan       </td> <td>nan       </td> <td>nan        </td> <td>nan   </td>\n",
       "        </tr>\n",
       "    </tbody>\n",
       "        <tr>\n",
       "            <td>19        </td> <td>Los Angeles</td> <td>199000309B  </td> <td>199000309</td> <td>33  </td> <td>26  </td> <td>50  </td> <td>3   </td> <td>LS011  </td> <td>Pacific Palisades</td> <td>O           </td> <td>191727818   </td> <td>20356039</td> <td>19227791755</td> <td>90272 </td> <td>1417     </td> <td>6.03726e+13    </td> <td>nan             </td> <td>nan             </td> <td>nan             </td> <td>nan         </td> <td>DS       </td> <td>M     </td> <td>3/12/2007 </td> <td>66  </td> <td>nan    </td> <td>Y     </td> <td>5     </td> <td>nan               </td> <td>nan    </td> <td>nan       </td> <td>nan       </td> <td>nan        </td> <td>nan   </td>\n",
       "        </tr>\n",
       "    </tbody>\n",
       "        <tr>\n",
       "            <td>19        </td> <td>Los Angeles</td> <td>199000309B  </td> <td>199000309</td> <td>33  </td> <td>26  </td> <td>50  </td> <td>3   </td> <td>LS011  </td> <td>Pacific Palisades</td> <td>O           </td> <td>191727808   </td> <td>20358148</td> <td>19212954958</td> <td>90272 </td> <td>1393     </td> <td>6.03726e+13    </td> <td>nan             </td> <td>nan             </td> <td>nan             </td> <td>nan         </td> <td>D        </td> <td>M     </td> <td>11/15/2005</td> <td>68  </td> <td>nan    </td> <td>Y     </td> <td>4     </td> <td>nan               </td> <td>nan    </td> <td>nan       </td> <td>nan       </td> <td>nan        </td> <td>nan   </td>\n",
       "        </tr>\n",
       "    </tbody>\n",
       "        <tr>\n",
       "            <td>19        </td> <td>Los Angeles</td> <td>199000309B  </td> <td>199000309</td> <td>33  </td> <td>26  </td> <td>50  </td> <td>3   </td> <td>LS011  </td> <td>Pacific Palisades</td> <td>O           </td> <td>191727816   </td> <td>20357137</td> <td>19519699592</td> <td>90272 </td> <td>1411     </td> <td>6.03726e+13    </td> <td>nan             </td> <td>nan             </td> <td>nan             </td> <td>nan         </td> <td>D        </td> <td>M     </td> <td>4/7/2004  </td> <td>48  </td> <td>nan    </td> <td>nan   </td> <td>5     </td> <td>nan               </td> <td>nan    </td> <td>nan       </td> <td>nan       </td> <td>nan        </td> <td>nan   </td>\n",
       "        </tr>\n",
       "    </tbody>\n",
       "        <tr>\n",
       "            <td>19        </td> <td>Los Angeles</td> <td>199000309B  </td> <td>199000309</td> <td>33  </td> <td>26  </td> <td>50  </td> <td>3   </td> <td>LS011  </td> <td>Pacific Palisades</td> <td>O           </td> <td>191727815   </td> <td>20357981</td> <td>19254427634</td> <td>90272 </td> <td>1409     </td> <td>6.03726e+13    </td> <td>nan             </td> <td>nan             </td> <td>nan             </td> <td>nan         </td> <td>D        </td> <td>M     </td> <td>10/23/2006</td> <td>66  </td> <td>nan    </td> <td>Y     </td> <td>4     </td> <td>nan               </td> <td>nan    </td> <td>nan       </td> <td>nan       </td> <td>nan        </td> <td>nan   </td>\n",
       "        </tr>\n",
       "    </tbody>\n",
       "        <tr>\n",
       "            <td>19        </td> <td>Los Angeles</td> <td>199001358E  </td> <td>199001358</td> <td>33  </td> <td>26  </td> <td>50  </td> <td>3   </td> <td>LS011  </td> <td>Pacific Palisades</td> <td>E           </td> <td>192063632   </td> <td>20357206</td> <td>1922860935 </td> <td>90272 </td> <td>1480     </td> <td>6.03726e+13    </td> <td>nan             </td> <td>nan             </td> <td>nan             </td> <td>nan         </td> <td>D        </td> <td>M     </td> <td>8/24/1982 </td> <td>70  </td> <td>nan    </td> <td>Y     </td> <td>3     </td> <td>nan               </td> <td>nan    </td> <td>nan       </td> <td>nan       </td> <td>nan        </td> <td>nan   </td>\n",
       "        </tr>\n",
       "    </tbody>\n",
       "        <tr>\n",
       "            <td>19        </td> <td>Los Angeles</td> <td>199001358D  </td> <td>199001358</td> <td>33  </td> <td>26  </td> <td>50  </td> <td>3   </td> <td>LS011  </td> <td>Pacific Palisades</td> <td>E           </td> <td>192063529   </td> <td>20359062</td> <td>19249747562</td> <td>90272 </td> <td>1600     </td> <td>6.03726e+13    </td> <td>nan             </td> <td>nan             </td> <td>nan             </td> <td>nan         </td> <td>R        </td> <td>M     </td> <td>5/10/1983 </td> <td>67  </td> <td>nan    </td> <td>Y     </td> <td>4     </td> <td>nan               </td> <td>nan    </td> <td>nan       </td> <td>nan       </td> <td>nan        </td> <td>nan   </td>\n",
       "        </tr>\n",
       "    </tbody>\n",
       "        <tr>\n",
       "            <td>19        </td> <td>Los Angeles</td> <td>199001358A  </td> <td>199001358</td> <td>33  </td> <td>26  </td> <td>50  </td> <td>3   </td> <td>LS011  </td> <td>Pacific Palisades</td> <td>E           </td> <td>192063458   </td> <td>20357264</td> <td>19522723087</td> <td>90272 </td> <td>1690     </td> <td>6.03726e+13    </td> <td>nan             </td> <td>nan             </td> <td>nan             </td> <td>nan         </td> <td>D        </td> <td>F     </td> <td>7/20/2000 </td> <td>51  </td> <td>nan    </td> <td>Y     </td> <td>4     </td> <td>nan               </td> <td>nan    </td> <td>nan       </td> <td>nan       </td> <td>nan        </td> <td>nan   </td>\n",
       "        </tr>\n",
       "    </tbody>\n",
       "        <tr>\n",
       "            <td>19        </td> <td>Los Angeles</td> <td>199001358A  </td> <td>199001358</td> <td>33  </td> <td>26  </td> <td>50  </td> <td>3   </td> <td>LS011  </td> <td>Pacific Palisades</td> <td>O           </td> <td>192063389   </td> <td>20358100</td> <td>19524934351</td> <td>90272 </td> <td>1661     </td> <td>6.03726e+13    </td> <td>nan             </td> <td>nan             </td> <td>nan             </td> <td>nan         </td> <td>D        </td> <td>F     </td> <td>9/15/2006 </td> <td>44  </td> <td>nan    </td> <td>nan   </td> <td>3     </td> <td>nan               </td> <td>nan    </td> <td>nan       </td> <td>nan       </td> <td>nan        </td> <td>nan   </td>\n",
       "        </tr>\n",
       "    </tbody>\n",
       "        <tr>\n",
       "            <td>19        </td> <td>Los Angeles</td> <td>199001358D  </td> <td>199001358</td> <td>33  </td> <td>26  </td> <td>50  </td> <td>3   </td> <td>LS011  </td> <td>Pacific Palisades</td> <td>O           </td> <td>192063571   </td> <td>20357113</td> <td>19524447614</td> <td>90272 </td> <td>1583     </td> <td>6.03726e+13    </td> <td>nan             </td> <td>nan             </td> <td>nan             </td> <td>nan         </td> <td>R        </td> <td>M     </td> <td>9/7/2012  </td> <td>53  </td> <td>nan    </td> <td>Y     </td> <td>1     </td> <td>nan               </td> <td>nan    </td> <td>nan       </td> <td>nan       </td> <td>nan        </td> <td>nan   </td>\n",
       "        </tr>\n",
       "    </tbody>\n",
       "</table>\n",
       "<p>... (1212 rows omitted)</p"
      ],
      "text/plain": [
       "COUNTYCODE | COUNTYNAME  | PRECINCTWSUB | PRECINCT  | CD   | SD   | AD   | SUP  | COUNCIL | RA_CITY           | ODD_EVENCODE | HOUSEHOLDAID | PDIID    | PRIMARYID   | RA_ZIP | RANGESORT | CENSUSBLOCK2010 | ELECTIONPRECINCT | POLLDESCRIPTION1 | POLLDESCRIPTION2 | POLLADDRESS1 | PARTYCODE | GENDER | REGDATE    | AGE  | SUPPORT | PERMAV | CNTVTS | MAILBALLOTPRECINCT | COMMENT | EXTERNALID | LOCALVALUE | AGENCYVALUE | STATUS\n",
       "19         | Los Angeles | 199000309B   | 199000309 | 33   | 26   | 50   | 3    | LS011   | Pacific Palisades | O            | 191727831    | 20358100 | 19289134951 | 90272  | 1443      | 6.03798e+13     | nan              | nan              | nan              | nan          | D         | F      | 6/11/2007  | 64   | nan     | Y      | 5      | nan                | nan     | nan        | nan        | nan         | nan\n",
       "19         | Los Angeles | 199000309B   | 199000309 | 33   | 26   | 50   | 3    | LS011   | Pacific Palisades | O            | 191727818    | 20356039 | 19227791755 | 90272  | 1417      | 6.03726e+13     | nan              | nan              | nan              | nan          | DS        | M      | 3/12/2007  | 66   | nan     | Y      | 5      | nan                | nan     | nan        | nan        | nan         | nan\n",
       "19         | Los Angeles | 199000309B   | 199000309 | 33   | 26   | 50   | 3    | LS011   | Pacific Palisades | O            | 191727808    | 20358148 | 19212954958 | 90272  | 1393      | 6.03726e+13     | nan              | nan              | nan              | nan          | D         | M      | 11/15/2005 | 68   | nan     | Y      | 4      | nan                | nan     | nan        | nan        | nan         | nan\n",
       "19         | Los Angeles | 199000309B   | 199000309 | 33   | 26   | 50   | 3    | LS011   | Pacific Palisades | O            | 191727816    | 20357137 | 19519699592 | 90272  | 1411      | 6.03726e+13     | nan              | nan              | nan              | nan          | D         | M      | 4/7/2004   | 48   | nan     | nan    | 5      | nan                | nan     | nan        | nan        | nan         | nan\n",
       "19         | Los Angeles | 199000309B   | 199000309 | 33   | 26   | 50   | 3    | LS011   | Pacific Palisades | O            | 191727815    | 20357981 | 19254427634 | 90272  | 1409      | 6.03726e+13     | nan              | nan              | nan              | nan          | D         | M      | 10/23/2006 | 66   | nan     | Y      | 4      | nan                | nan     | nan        | nan        | nan         | nan\n",
       "19         | Los Angeles | 199001358E   | 199001358 | 33   | 26   | 50   | 3    | LS011   | Pacific Palisades | E            | 192063632    | 20357206 | 1922860935  | 90272  | 1480      | 6.03726e+13     | nan              | nan              | nan              | nan          | D         | M      | 8/24/1982  | 70   | nan     | Y      | 3      | nan                | nan     | nan        | nan        | nan         | nan\n",
       "19         | Los Angeles | 199001358D   | 199001358 | 33   | 26   | 50   | 3    | LS011   | Pacific Palisades | E            | 192063529    | 20359062 | 19249747562 | 90272  | 1600      | 6.03726e+13     | nan              | nan              | nan              | nan          | R         | M      | 5/10/1983  | 67   | nan     | Y      | 4      | nan                | nan     | nan        | nan        | nan         | nan\n",
       "19         | Los Angeles | 199001358A   | 199001358 | 33   | 26   | 50   | 3    | LS011   | Pacific Palisades | E            | 192063458    | 20357264 | 19522723087 | 90272  | 1690      | 6.03726e+13     | nan              | nan              | nan              | nan          | D         | F      | 7/20/2000  | 51   | nan     | Y      | 4      | nan                | nan     | nan        | nan        | nan         | nan\n",
       "19         | Los Angeles | 199001358A   | 199001358 | 33   | 26   | 50   | 3    | LS011   | Pacific Palisades | O            | 192063389    | 20358100 | 19524934351 | 90272  | 1661      | 6.03726e+13     | nan              | nan              | nan              | nan          | D         | F      | 9/15/2006  | 44   | nan     | nan    | 3      | nan                | nan     | nan        | nan        | nan         | nan\n",
       "19         | Los Angeles | 199001358D   | 199001358 | 33   | 26   | 50   | 3    | LS011   | Pacific Palisades | O            | 192063571    | 20357113 | 19524447614 | 90272  | 1583      | 6.03726e+13     | nan              | nan              | nan              | nan          | R         | M      | 9/7/2012   | 53   | nan     | Y      | 1      | nan                | nan     | nan        | nan        | nan         | nan\n",
       "... (1212 rows omitted)"
      ]
     },
     "execution_count": 10,
     "metadata": {},
     "output_type": "execute_result"
    }
   ],
   "source": [
    "tbl_by_zips[90272]"
   ]
  },
  {
   "cell_type": "code",
   "execution_count": 11,
   "metadata": {
    "collapsed": false
   },
   "outputs": [
    {
     "data": {
      "text/plain": [
       "{90025: 602,\n",
       " 90266: 1764,\n",
       " 90272: 1222,\n",
       " 90274: 1537,\n",
       " 91505: 868,\n",
       " 91602: 363,\n",
       " 91792: 0,\n",
       " 92009: 3654,\n",
       " 92075: 4,\n",
       " 92243: 719,\n",
       " 92603: 923,\n",
       " 92620: 1747,\n",
       " 93923: 0,\n",
       " 94109: 0,\n",
       " 94301: 0,\n",
       " 95129: 0,\n",
       " 95377: 0}"
      ]
     },
     "execution_count": 11,
     "metadata": {},
     "output_type": "execute_result"
    }
   ],
   "source": [
    "tbl_by_zips_sizes = {}\n",
    "for zipcode in tbl_by_zips.keys():\n",
    "    tbl_by_zips_sizes[zipcode] = tbl_by_zips[zipcode].num_rows\n",
    "tbl_by_zips_sizes\n",
    "    "
   ]
  },
  {
   "cell_type": "code",
   "execution_count": null,
   "metadata": {
    "collapsed": true
   },
   "outputs": [],
   "source": []
  }
 ],
 "metadata": {
  "kernelspec": {
   "display_name": "Python 3",
   "language": "python",
   "name": "python3"
  },
  "language_info": {
   "codemirror_mode": {
    "name": "ipython",
    "version": 3
   },
   "file_extension": ".py",
   "mimetype": "text/x-python",
   "name": "python",
   "nbconvert_exporter": "python",
   "pygments_lexer": "ipython3",
   "version": "3.5.1"
  }
 },
 "nbformat": 4,
 "nbformat_minor": 0
}
